{
 "cells": [
  {
   "cell_type": "code",
   "execution_count": 195,
   "metadata": {},
   "outputs": [],
   "source": [
    "import pandas as pd"
   ]
  },
  {
   "cell_type": "code",
   "execution_count": 196,
   "metadata": {},
   "outputs": [
    {
     "data": {
      "text/html": [
       "<div>\n",
       "<style scoped>\n",
       "    .dataframe tbody tr th:only-of-type {\n",
       "        vertical-align: middle;\n",
       "    }\n",
       "\n",
       "    .dataframe tbody tr th {\n",
       "        vertical-align: top;\n",
       "    }\n",
       "\n",
       "    .dataframe thead th {\n",
       "        text-align: right;\n",
       "    }\n",
       "</style>\n",
       "<table border=\"1\" class=\"dataframe\">\n",
       "  <thead>\n",
       "    <tr style=\"text-align: right;\">\n",
       "      <th></th>\n",
       "      <th>브랜드</th>\n",
       "      <th>상품명</th>\n",
       "    </tr>\n",
       "  </thead>\n",
       "  <tbody>\n",
       "    <tr>\n",
       "      <th>0</th>\n",
       "      <td>코스알엑스 (COSRX)</td>\n",
       "      <td>풀핏 프로폴리스 시너지 토너</td>\n",
       "    </tr>\n",
       "    <tr>\n",
       "      <th>1</th>\n",
       "      <td>더랩 바이 블랑두 (THE LAB by blanc doux)</td>\n",
       "      <td>올리고 히알루론산 7멀티 포뮬라 패드</td>\n",
       "    </tr>\n",
       "    <tr>\n",
       "      <th>2</th>\n",
       "      <td>프레쥬 (Fraijour)</td>\n",
       "      <td>프로 모이스처 크리미 토너</td>\n",
       "    </tr>\n",
       "    <tr>\n",
       "      <th>3</th>\n",
       "      <td>스팀베이스 (STEAMBASE)</td>\n",
       "      <td>테르물레 클리어 패드</td>\n",
       "    </tr>\n",
       "    <tr>\n",
       "      <th>4</th>\n",
       "      <td>더모테라피 (Dermo therapie)</td>\n",
       "      <td>리페어레이션 에센스 토너</td>\n",
       "    </tr>\n",
       "  </tbody>\n",
       "</table>\n",
       "</div>"
      ],
      "text/plain": [
       "                                 브랜드                   상품명\n",
       "0                      코스알엑스 (COSRX)       풀핏 프로폴리스 시너지 토너\n",
       "1  더랩 바이 블랑두 (THE LAB by blanc doux)  올리고 히알루론산 7멀티 포뮬라 패드\n",
       "2                     프레쥬 (Fraijour)        프로 모이스처 크리미 토너\n",
       "3                  스팀베이스 (STEAMBASE)           테르물레 클리어 패드\n",
       "4             더모테라피 (Dermo therapie)         리페어레이션 에센스 토너"
      ]
     },
     "execution_count": 196,
     "metadata": {},
     "output_type": "execute_result"
    }
   ],
   "source": [
    "df = pd.read_excel('all_brand_name.xlsx')\n",
    "df.head()"
   ]
  },
  {
   "cell_type": "code",
   "execution_count": 3,
   "metadata": {
    "collapsed": true
   },
   "outputs": [
    {
     "name": "stdout",
     "output_type": "stream",
     "text": [
      "<class 'pandas.core.frame.DataFrame'>\n",
      "RangeIndex: 1980 entries, 0 to 1979\n",
      "Data columns (total 2 columns):\n",
      " #   Column  Non-Null Count  Dtype \n",
      "---  ------  --------------  ----- \n",
      " 0   브랜드     1980 non-null   object\n",
      " 1   상품명     1980 non-null   object\n",
      "dtypes: object(2)\n",
      "memory usage: 31.1+ KB\n"
     ]
    }
   ],
   "source": [
    "df.info()"
   ]
  },
  {
   "cell_type": "code",
   "execution_count": 44,
   "metadata": {},
   "outputs": [
    {
     "data": {
      "text/plain": [
       "1980"
      ]
     },
     "execution_count": 44,
     "metadata": {},
     "output_type": "execute_result"
    }
   ],
   "source": [
    "len(df.index)"
   ]
  },
  {
   "cell_type": "code",
   "execution_count": 49,
   "metadata": {
    "collapsed": true
   },
   "outputs": [
    {
     "data": {
      "text/html": [
       "<div>\n",
       "<style scoped>\n",
       "    .dataframe tbody tr th:only-of-type {\n",
       "        vertical-align: middle;\n",
       "    }\n",
       "\n",
       "    .dataframe tbody tr th {\n",
       "        vertical-align: top;\n",
       "    }\n",
       "\n",
       "    .dataframe thead th {\n",
       "        text-align: right;\n",
       "    }\n",
       "</style>\n",
       "<table border=\"1\" class=\"dataframe\">\n",
       "  <thead>\n",
       "    <tr style=\"text-align: right;\">\n",
       "      <th></th>\n",
       "      <th>브랜드</th>\n",
       "      <th>상품명</th>\n",
       "    </tr>\n",
       "  </thead>\n",
       "  <tbody>\n",
       "    <tr>\n",
       "      <th>0</th>\n",
       "      <td>코스알엑스 (COSRX)</td>\n",
       "      <td>풀핏 프로폴리스 시너지 토너</td>\n",
       "    </tr>\n",
       "    <tr>\n",
       "      <th>1</th>\n",
       "      <td>더랩 바이 블랑두 (THE LAB by blanc doux)</td>\n",
       "      <td>올리고 히알루론산 7멀티 포뮬라 패드</td>\n",
       "    </tr>\n",
       "    <tr>\n",
       "      <th>2</th>\n",
       "      <td>프레쥬 (Fraijour)</td>\n",
       "      <td>프로 모이스처 크리미 토너</td>\n",
       "    </tr>\n",
       "    <tr>\n",
       "      <th>3</th>\n",
       "      <td>스팀베이스 (STEAMBASE)</td>\n",
       "      <td>테르물레 클리어 패드</td>\n",
       "    </tr>\n",
       "    <tr>\n",
       "      <th>4</th>\n",
       "      <td>더모테라피 (Dermo therapie)</td>\n",
       "      <td>리페어레이션 에센스 토너</td>\n",
       "    </tr>\n",
       "    <tr>\n",
       "      <th>5</th>\n",
       "      <td>홀리카홀리카 (HOLIKA HOLIKA)</td>\n",
       "      <td>레스온스킨 에센스 패드</td>\n",
       "    </tr>\n",
       "    <tr>\n",
       "      <th>6</th>\n",
       "      <td>오휘 (O HUI)</td>\n",
       "      <td>더 퍼스트 제너츄어 스킨 소프너</td>\n",
       "    </tr>\n",
       "    <tr>\n",
       "      <th>7</th>\n",
       "      <td>시드물 (SIDMOOL)</td>\n",
       "      <td>카렌듈라 앰플 토너</td>\n",
       "    </tr>\n",
       "    <tr>\n",
       "      <th>8</th>\n",
       "      <td>바디버든프로젝트 (BODYBURDEN PROJECT)</td>\n",
       "      <td>시카 토너 패드</td>\n",
       "    </tr>\n",
       "    <tr>\n",
       "      <th>9</th>\n",
       "      <td>언파코스메틱 (unpa)</td>\n",
       "      <td>바이바이 시카토너</td>\n",
       "    </tr>\n",
       "    <tr>\n",
       "      <th>10</th>\n",
       "      <td>더마토리 (DERMATORY)</td>\n",
       "      <td>하이포알러제닉 모이스처라이징 크림 보습패드</td>\n",
       "    </tr>\n",
       "    <tr>\n",
       "      <th>11</th>\n",
       "      <td>프리메라 (primera)</td>\n",
       "      <td>수딩 센서티브 워터</td>\n",
       "    </tr>\n",
       "    <tr>\n",
       "      <th>12</th>\n",
       "      <td>브링그린 (BRINGGREEN)</td>\n",
       "      <td>찹쌀 배리어 크림 스킨</td>\n",
       "    </tr>\n",
       "    <tr>\n",
       "      <th>13</th>\n",
       "      <td>미샤 (MISSHA)</td>\n",
       "      <td>비폴렌 리뉴 앰풀 스킨</td>\n",
       "    </tr>\n",
       "    <tr>\n",
       "      <th>14</th>\n",
       "      <td>아이소이 (isoi)</td>\n",
       "      <td>파하 퍼스트 토너 (각질파토)</td>\n",
       "    </tr>\n",
       "    <tr>\n",
       "      <th>15</th>\n",
       "      <td>이퀄베리 (Eqqualberry)</td>\n",
       "      <td>데일리 필링 수영장 토너</td>\n",
       "    </tr>\n",
       "    <tr>\n",
       "      <th>16</th>\n",
       "      <td>비플랫 (be Flat)</td>\n",
       "      <td>퓨어 토너</td>\n",
       "    </tr>\n",
       "    <tr>\n",
       "      <th>17</th>\n",
       "      <td>토니모리 (TONYMOLY)</td>\n",
       "      <td>원더 세라마이드 모찌 토너</td>\n",
       "    </tr>\n",
       "    <tr>\n",
       "      <th>18</th>\n",
       "      <td>얼트루 (ultru)</td>\n",
       "      <td>아임 쏘리 포 마이 스킨 릴렉싱 토너</td>\n",
       "    </tr>\n",
       "    <tr>\n",
       "      <th>19</th>\n",
       "      <td>보타니티 (BOTANITY)</td>\n",
       "      <td>플라본 부스터</td>\n",
       "    </tr>\n",
       "  </tbody>\n",
       "</table>\n",
       "</div>"
      ],
      "text/plain": [
       "                                  브랜드                      상품명\n",
       "0                       코스알엑스 (COSRX)          풀핏 프로폴리스 시너지 토너\n",
       "1   더랩 바이 블랑두 (THE LAB by blanc doux)     올리고 히알루론산 7멀티 포뮬라 패드\n",
       "2                      프레쥬 (Fraijour)           프로 모이스처 크리미 토너\n",
       "3                   스팀베이스 (STEAMBASE)              테르물레 클리어 패드\n",
       "4              더모테라피 (Dermo therapie)            리페어레이션 에센스 토너\n",
       "5              홀리카홀리카 (HOLIKA HOLIKA)             레스온스킨 에센스 패드\n",
       "6                          오휘 (O HUI)        더 퍼스트 제너츄어 스킨 소프너\n",
       "7                       시드물 (SIDMOOL)               카렌듈라 앰플 토너\n",
       "8       바디버든프로젝트 (BODYBURDEN PROJECT)                 시카 토너 패드\n",
       "9                       언파코스메틱 (unpa)                바이바이 시카토너\n",
       "10                   더마토리 (DERMATORY)  하이포알러제닉 모이스처라이징 크림 보습패드\n",
       "11                     프리메라 (primera)               수딩 센서티브 워터\n",
       "12                  브링그린 (BRINGGREEN)             찹쌀 배리어 크림 스킨\n",
       "13                        미샤 (MISSHA)             비폴렌 리뉴 앰풀 스킨\n",
       "14                        아이소이 (isoi)         파하 퍼스트 토너 (각질파토)\n",
       "15                 이퀄베리 (Eqqualberry)            데일리 필링 수영장 토너\n",
       "16                      비플랫 (be Flat)                    퓨어 토너\n",
       "17                    토니모리 (TONYMOLY)           원더 세라마이드 모찌 토너\n",
       "18                        얼트루 (ultru)     아임 쏘리 포 마이 스킨 릴렉싱 토너\n",
       "19                    보타니티 (BOTANITY)                  플라본 부스터"
      ]
     },
     "execution_count": 49,
     "metadata": {},
     "output_type": "execute_result"
    }
   ],
   "source": [
    "df.head(20)"
   ]
  },
  {
   "cell_type": "code",
   "execution_count": 197,
   "metadata": {},
   "outputs": [],
   "source": [
    "df['상품명']=df['상품명'].str.replace(r'[^가-힣a-zA-Z\\s]',' ')"
   ]
  },
  {
   "cell_type": "code",
   "execution_count": 199,
   "metadata": {},
   "outputs": [],
   "source": [
    "df['브랜드']=df['브랜드'].str.replace('\\(.*','')"
   ]
  },
  {
   "cell_type": "code",
   "execution_count": 200,
   "metadata": {
    "collapsed": true
   },
   "outputs": [
    {
     "data": {
      "text/html": [
       "<div>\n",
       "<style scoped>\n",
       "    .dataframe tbody tr th:only-of-type {\n",
       "        vertical-align: middle;\n",
       "    }\n",
       "\n",
       "    .dataframe tbody tr th {\n",
       "        vertical-align: top;\n",
       "    }\n",
       "\n",
       "    .dataframe thead th {\n",
       "        text-align: right;\n",
       "    }\n",
       "</style>\n",
       "<table border=\"1\" class=\"dataframe\">\n",
       "  <thead>\n",
       "    <tr style=\"text-align: right;\">\n",
       "      <th></th>\n",
       "      <th>브랜드</th>\n",
       "      <th>상품명</th>\n",
       "    </tr>\n",
       "  </thead>\n",
       "  <tbody>\n",
       "    <tr>\n",
       "      <th>0</th>\n",
       "      <td>코스알엑스</td>\n",
       "      <td>풀핏 프로폴리스 시너지 토너</td>\n",
       "    </tr>\n",
       "    <tr>\n",
       "      <th>1</th>\n",
       "      <td>더랩 바이 블랑두</td>\n",
       "      <td>올리고 히알루론산  멀티 포뮬라 패드</td>\n",
       "    </tr>\n",
       "    <tr>\n",
       "      <th>2</th>\n",
       "      <td>프레쥬</td>\n",
       "      <td>프로 모이스처 크리미 토너</td>\n",
       "    </tr>\n",
       "    <tr>\n",
       "      <th>3</th>\n",
       "      <td>스팀베이스</td>\n",
       "      <td>테르물레 클리어 패드</td>\n",
       "    </tr>\n",
       "    <tr>\n",
       "      <th>4</th>\n",
       "      <td>더모테라피</td>\n",
       "      <td>리페어레이션 에센스 토너</td>\n",
       "    </tr>\n",
       "    <tr>\n",
       "      <th>5</th>\n",
       "      <td>홀리카홀리카</td>\n",
       "      <td>레스온스킨 에센스 패드</td>\n",
       "    </tr>\n",
       "    <tr>\n",
       "      <th>6</th>\n",
       "      <td>오휘</td>\n",
       "      <td>더 퍼스트 제너츄어 스킨 소프너</td>\n",
       "    </tr>\n",
       "    <tr>\n",
       "      <th>7</th>\n",
       "      <td>시드물</td>\n",
       "      <td>카렌듈라 앰플 토너</td>\n",
       "    </tr>\n",
       "    <tr>\n",
       "      <th>8</th>\n",
       "      <td>바디버든프로젝트</td>\n",
       "      <td>시카 토너 패드</td>\n",
       "    </tr>\n",
       "    <tr>\n",
       "      <th>9</th>\n",
       "      <td>언파코스메틱</td>\n",
       "      <td>바이바이 시카토너</td>\n",
       "    </tr>\n",
       "    <tr>\n",
       "      <th>10</th>\n",
       "      <td>더마토리</td>\n",
       "      <td>하이포알러제닉 모이스처라이징 크림 보습패드</td>\n",
       "    </tr>\n",
       "    <tr>\n",
       "      <th>11</th>\n",
       "      <td>프리메라</td>\n",
       "      <td>수딩 센서티브 워터</td>\n",
       "    </tr>\n",
       "    <tr>\n",
       "      <th>12</th>\n",
       "      <td>브링그린</td>\n",
       "      <td>찹쌀 배리어 크림 스킨</td>\n",
       "    </tr>\n",
       "    <tr>\n",
       "      <th>13</th>\n",
       "      <td>미샤</td>\n",
       "      <td>비폴렌 리뉴 앰풀 스킨</td>\n",
       "    </tr>\n",
       "    <tr>\n",
       "      <th>14</th>\n",
       "      <td>아이소이</td>\n",
       "      <td>파하 퍼스트 토너  각질파토</td>\n",
       "    </tr>\n",
       "    <tr>\n",
       "      <th>15</th>\n",
       "      <td>이퀄베리</td>\n",
       "      <td>데일리 필링 수영장 토너</td>\n",
       "    </tr>\n",
       "    <tr>\n",
       "      <th>16</th>\n",
       "      <td>비플랫</td>\n",
       "      <td>퓨어 토너</td>\n",
       "    </tr>\n",
       "    <tr>\n",
       "      <th>17</th>\n",
       "      <td>토니모리</td>\n",
       "      <td>원더 세라마이드 모찌 토너</td>\n",
       "    </tr>\n",
       "    <tr>\n",
       "      <th>18</th>\n",
       "      <td>얼트루</td>\n",
       "      <td>아임 쏘리 포 마이 스킨 릴렉싱 토너</td>\n",
       "    </tr>\n",
       "    <tr>\n",
       "      <th>19</th>\n",
       "      <td>보타니티</td>\n",
       "      <td>플라본 부스터</td>\n",
       "    </tr>\n",
       "  </tbody>\n",
       "</table>\n",
       "</div>"
      ],
      "text/plain": [
       "           브랜드                      상품명\n",
       "0       코스알엑스           풀핏 프로폴리스 시너지 토너\n",
       "1   더랩 바이 블랑두      올리고 히알루론산  멀티 포뮬라 패드\n",
       "2         프레쥬            프로 모이스처 크리미 토너\n",
       "3       스팀베이스               테르물레 클리어 패드\n",
       "4       더모테라피             리페어레이션 에센스 토너\n",
       "5      홀리카홀리카              레스온스킨 에센스 패드\n",
       "6          오휘         더 퍼스트 제너츄어 스킨 소프너\n",
       "7         시드물                카렌듈라 앰플 토너\n",
       "8    바디버든프로젝트                  시카 토너 패드\n",
       "9      언파코스메틱                 바이바이 시카토너\n",
       "10       더마토리   하이포알러제닉 모이스처라이징 크림 보습패드\n",
       "11       프리메라                수딩 센서티브 워터\n",
       "12       브링그린              찹쌀 배리어 크림 스킨\n",
       "13         미샤              비폴렌 리뉴 앰풀 스킨\n",
       "14       아이소이          파하 퍼스트 토너  각질파토 \n",
       "15       이퀄베리             데일리 필링 수영장 토너\n",
       "16        비플랫                     퓨어 토너\n",
       "17       토니모리            원더 세라마이드 모찌 토너\n",
       "18        얼트루      아임 쏘리 포 마이 스킨 릴렉싱 토너\n",
       "19       보타니티                   플라본 부스터"
      ]
     },
     "execution_count": 200,
     "metadata": {},
     "output_type": "execute_result"
    }
   ],
   "source": [
    "df.head(20)"
   ]
  },
  {
   "cell_type": "code",
   "execution_count": null,
   "metadata": {},
   "outputs": [],
   "source": []
  },
  {
   "cell_type": "code",
   "execution_count": null,
   "metadata": {},
   "outputs": [],
   "source": [
    "# 상품명\n",
    "# 브랜드+ 품목\n",
    "# 브랜드 +상품명"
   ]
  },
  {
   "cell_type": "code",
   "execution_count": 201,
   "metadata": {},
   "outputs": [],
   "source": [
    "df_product = df['상품명']"
   ]
  },
  {
   "cell_type": "code",
   "execution_count": 202,
   "metadata": {},
   "outputs": [
    {
     "data": {
      "text/plain": [
       "0            풀핏 프로폴리스 시너지 토너\n",
       "1       올리고 히알루론산  멀티 포뮬라 패드\n",
       "2             프로 모이스처 크리미 토너\n",
       "3                테르물레 클리어 패드\n",
       "4              리페어레이션 에센스 토너\n",
       "                ...         \n",
       "1975               치키 스토어웨이즈\n",
       "1976    인스턴트 프리티 아이 앤 치크 팔레트\n",
       "1977                  S S 룩북\n",
       "1978           데어 컬렉션 페어리 비즈\n",
       "1979              클래식 멀티 팔레트\n",
       "Name: 상품명, Length: 1980, dtype: object"
      ]
     },
     "execution_count": 202,
     "metadata": {},
     "output_type": "execute_result"
    }
   ],
   "source": [
    "df_product"
   ]
  },
  {
   "cell_type": "code",
   "execution_count": 203,
   "metadata": {},
   "outputs": [],
   "source": [
    "# 상품명\n",
    "import pandas as pd\n",
    "ew = pd.ExcelWriter('product_name.xlsx', engine='xlsxwriter')\n",
    "df_product.to_excel(ew, index=False)\n",
    "ew.save()"
   ]
  },
  {
   "cell_type": "code",
   "execution_count": 208,
   "metadata": {},
   "outputs": [],
   "source": [
    "for i,row in df.iterrows():\n",
    "   df['상품명'][i]=row['상품명'].split()[-1]"
   ]
  },
  {
   "cell_type": "code",
   "execution_count": 209,
   "metadata": {},
   "outputs": [],
   "source": [
    "brand_brand_pad = df['브랜드']+df['상품명']"
   ]
  },
  {
   "cell_type": "code",
   "execution_count": 210,
   "metadata": {},
   "outputs": [],
   "source": [
    "brand_brand_pad = pd.DataFrame(brand_brand_pad)"
   ]
  },
  {
   "cell_type": "code",
   "execution_count": 211,
   "metadata": {},
   "outputs": [],
   "source": [
    "brand_brand_pad = brand_brand_pad.rename(columns={0:'상품명'})"
   ]
  },
  {
   "cell_type": "code",
   "execution_count": 1,
   "metadata": {},
   "outputs": [
    {
     "ename": "NameError",
     "evalue": "name 'brand_brand_pad' is not defined",
     "output_type": "error",
     "traceback": [
      "\u001b[1;31m---------------------------------------------------------------------------\u001b[0m",
      "\u001b[1;31mNameError\u001b[0m                                 Traceback (most recent call last)",
      "\u001b[1;32m<ipython-input-1-7905733813b7>\u001b[0m in \u001b[0;36m<module>\u001b[1;34m\u001b[0m\n\u001b[1;32m----> 1\u001b[1;33m \u001b[0mbrand_brand_pad\u001b[0m\u001b[1;33m\u001b[0m\u001b[1;33m\u001b[0m\u001b[0m\n\u001b[0m",
      "\u001b[1;31mNameError\u001b[0m: name 'brand_brand_pad' is not defined"
     ]
    }
   ],
   "source": [
    "brand_brand_pad"
   ]
  },
  {
   "cell_type": "code",
   "execution_count": 213,
   "metadata": {},
   "outputs": [],
   "source": [
    "# 브랜드+ 품목\n",
    "import pandas as pd\n",
    "ew = pd.ExcelWriter('brand_brand_pad.xlsx', engine='xlsxwriter')\n",
    "brand_brand_pad.to_excel(ew, index=False)\n",
    "ew.save()"
   ]
  },
  {
   "cell_type": "code",
   "execution_count": 204,
   "metadata": {},
   "outputs": [],
   "source": [
    "df['브랜상품'] = df['브랜드']+df['상품명']"
   ]
  },
  {
   "cell_type": "code",
   "execution_count": 205,
   "metadata": {},
   "outputs": [],
   "source": [
    "df_bran_product = df['브랜상품']"
   ]
  },
  {
   "cell_type": "code",
   "execution_count": 206,
   "metadata": {},
   "outputs": [
    {
     "data": {
      "text/plain": [
       "0                코스알엑스 풀핏 프로폴리스 시너지 토너\n",
       "1       더랩 바이 블랑두 올리고 히알루론산  멀티 포뮬라 패드\n",
       "2                   프레쥬 프로 모이스처 크리미 토너\n",
       "3                    스팀베이스 테르물레 클리어 패드\n",
       "4                  더모테라피 리페어레이션 에센스 토너\n",
       "                     ...              \n",
       "1975                    베네피트 치키 스토어웨이즈\n",
       "1976        바비브라운 인스턴트 프리티 아이 앤 치크 팔레트\n",
       "1977                    에스쁘아    S S 룩북\n",
       "1978                  미샤 데어 컬렉션 페어리 비즈\n",
       "1979                    컨시크 클래식 멀티 팔레트\n",
       "Name: 브랜상품, Length: 1980, dtype: object"
      ]
     },
     "execution_count": 206,
     "metadata": {},
     "output_type": "execute_result"
    }
   ],
   "source": [
    "df_bran_product"
   ]
  },
  {
   "cell_type": "code",
   "execution_count": 207,
   "metadata": {},
   "outputs": [],
   "source": [
    "# 브랜드 +상품명\n",
    "import pandas as pd\n",
    "ew = pd.ExcelWriter('brand_product_name.xlsx', engine='xlsxwriter')\n",
    "df_bran_product.to_excel(ew, index=False)\n",
    "ew.save()"
   ]
  },
  {
   "cell_type": "code",
   "execution_count": null,
   "metadata": {},
   "outputs": [],
   "source": []
  },
  {
   "cell_type": "code",
   "execution_count": null,
   "metadata": {},
   "outputs": [],
   "source": []
  },
  {
   "cell_type": "code",
   "execution_count": null,
   "metadata": {},
   "outputs": [],
   "source": []
  },
  {
   "cell_type": "code",
   "execution_count": null,
   "metadata": {},
   "outputs": [],
   "source": []
  }
 ],
 "metadata": {
  "kernelspec": {
   "display_name": "Python 3",
   "language": "python",
   "name": "python3"
  },
  "language_info": {
   "codemirror_mode": {
    "name": "ipython",
    "version": 3
   },
   "file_extension": ".py",
   "mimetype": "text/x-python",
   "name": "python",
   "nbconvert_exporter": "python",
   "pygments_lexer": "ipython3",
   "version": "3.7.6"
  }
 },
 "nbformat": 4,
 "nbformat_minor": 4
}
